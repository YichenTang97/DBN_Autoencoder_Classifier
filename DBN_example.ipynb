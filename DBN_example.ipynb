{
 "cells": [
  {
   "cell_type": "code",
   "execution_count": 1,
   "metadata": {},
   "outputs": [],
   "source": [
    "import numpy as np\n",
    "from sklearn.datasets import load_digits\n",
    "from sklearn.model_selection import cross_val_score\n",
    "\n",
    "from DBNAC import DBNClassifier, SimpleDBNClassifier"
   ]
  },
  {
   "cell_type": "code",
   "execution_count": 2,
   "metadata": {},
   "outputs": [
    {
     "name": "stdout",
     "output_type": "stream",
     "text": [
      "(1797, 64)\n"
     ]
    }
   ],
   "source": [
    "X, y = load_digits(return_X_y=True)\n",
    "print(X.shape)"
   ]
  },
  {
   "cell_type": "code",
   "execution_count": 3,
   "metadata": {},
   "outputs": [
    {
     "name": "stdout",
     "output_type": "stream",
     "text": [
      "0.9298777468276075\n",
      "[0.95       0.91944444 0.94428969 0.95264624 0.88300836]\n"
     ]
    }
   ],
   "source": [
    "clf = DBNClassifier(n_hiddens=[500, 100, 20], k=3, \n",
    "                    loss_ae='MSELoss', loss_clf='CrossEntropyLoss',\n",
    "                    optimizer_ae='Adam', optimizer_clf='Adam',\n",
    "                    lr_rbm=1e-5, lr_ae=0.01, lr_clf=0.01,\n",
    "                    epochs_rbm=100, epochs_ae=50, epochs_clf=50,\n",
    "                    batch_size_rbm=50, batch_size_ae=50, batch_size_clf=50,\n",
    "                    loss_ae_kwargs={}, loss_clf_kwargs={},\n",
    "                    optimizer_ae_kwargs=dict(), optimizer_clf_kwargs=dict(), \n",
    "                    random_state=42, use_gpu=True, verbose=False)\n",
    "scores = cross_val_score(clf, X, y)\n",
    "print(np.mean(scores))\n",
    "print(scores)"
   ]
  },
  {
   "cell_type": "code",
   "execution_count": 4,
   "metadata": {},
   "outputs": [
    {
     "name": "stdout",
     "output_type": "stream",
     "text": [
      "0.9298777468276075\n",
      "[0.95       0.91944444 0.94428969 0.95264624 0.88300836]\n"
     ]
    }
   ],
   "source": [
    "clf = SimpleDBNClassifier(n_hiddens=[500, 100, 20], lr_pre_train=1e-5, lr_fine_tune=0.01, \n",
    "                 epochs_pre_train=100, epochs_fine_tune=50, batch_size=50, k=3, \n",
    "                 random_state=42, use_gpu=True, verbose=False)\n",
    "scores = cross_val_score(clf, X, y)\n",
    "print(np.mean(scores))\n",
    "print(scores)"
   ]
  },
  {
   "cell_type": "code",
   "execution_count": null,
   "metadata": {},
   "outputs": [],
   "source": []
  }
 ],
 "metadata": {
  "kernelspec": {
   "display_name": "prosody_1",
   "language": "python",
   "name": "python3"
  },
  "language_info": {
   "codemirror_mode": {
    "name": "ipython",
    "version": 3
   },
   "file_extension": ".py",
   "mimetype": "text/x-python",
   "name": "python",
   "nbconvert_exporter": "python",
   "pygments_lexer": "ipython3",
   "version": "3.9.15"
  },
  "orig_nbformat": 4,
  "vscode": {
   "interpreter": {
    "hash": "3f38051f1ddded3e326d0b827e329a10034216e79b2f401ba9b72226d19a5307"
   }
  }
 },
 "nbformat": 4,
 "nbformat_minor": 2
}
